{
 "cells": [
  {
   "cell_type": "markdown",
   "metadata": {},
   "source": [
    "For this lab, you will be using the `trip_fare_500k.csv` file found in the `data/nycTaxiData/` folder .\n",
    "\n",
    "This dataset contains a fairly large number of distinct trips taken in cabs in the NYC area in 2013 (500 thousand of them, to be exact!).\n",
    "\n",
    "The dataset contains the following information at the top of the file (this is called the header):\n",
    "\n",
    "* `medallion`: The ID of the cab being operated\n",
    "* `hack_license`: The ID of the person operating the cab\n",
    "* `vendor_id`: The type of vendor operating the cab, can either be `CMT` or `VTS`, no clue what these two types mean\n",
    "* `pickup_datetime`: The time when the ride started\n",
    "* `payment_type`: How the trip was paid, `UNK` stands for unknown, I have no idea what `NOC` stands for, but lets assume its some known way to pay\n",
    "* `fare_amount`: Base fare cost of the trip\n",
    "* `surcharge`: Additional charges that are not tolls\n",
    "* `mta_tax`: The mta has to get its cut, right? :)\n",
    "* `tip_amount`: How generous the rider(s) decided to be\n",
    "* `tolls_amount`: How much money you had to pay in tolls\n",
    "* `total_amount`: How much the trip cost, all in"
   ]
  },
  {
   "cell_type": "markdown",
   "metadata": {},
   "source": [
    "Phew, That's a lot of info!\n",
    "\n",
    "Here is the assignment:\n",
    "\n",
    "1. What was the most expensive/least expensive trip taken?\n",
    "* Does the overall `total_amount` paid per ride correlate with `tip_amount` per ride?\n",
    "* Does it correlate when you remove all rides with unknown `payment_type`?\n",
    "* Calculate the average cost of a trip in this dataset given the following conditions:\n",
    "  1. Across the whole dataset\n",
    "  2. Across the whole dataset when the `payment_type` is known (not `UNK`)\n",
    "  3. For each `payment_type`\n",
    "  4. Which `payment_type` had the highest average cost?\n",
    "  5. Which `payment_type` had the largest spread in how much people paid (largest standard deviation)?\n",
    "  6. Which `payment_type` had the most generous people (had the highest average tip), including unknown payment types?\n",
    "  7. What hour in the day were people most generous, on average, when they got into a cab?\n",
    "  8. What hour of the day did people fluctuate the most in terms of tips? That is, do some hours lead to unpredictable tip amounts? \n",
    "* Which person (`hack_license`) made the most money:\n",
    "  1. In total\n",
    "  2. On a per-trip basis, given that they took at least 20 trips\n",
    "* Does the number of trips a given cabbie takes (her/his experience) correlate with how well she/he is tipped? If so, in what direction?\n",
    "* Does the number of times a given cab is used correlate with how well the person driving the cab is tipped? That is, are there \"lucky\" cabs?\n",
    "* Which `vendor_id` had the higher average `surcharge` on a per-hour basis?\n",
    "* Which hour in the day: \n",
    "  1. Did people most frequently take rides?\n",
    "  2. Did people least frequently take rides?\n",
    "  3. Had the largest number of unique cabs on the street?\n",
    "  4. Had the least number of cabs in the street?\n",
    "  5. What is the average number of cabs on the streets in NYC in each quarter of the day (at least in this dataset?)?"
   ]
  },
  {
   "cell_type": "markdown",
   "metadata": {},
   "source": [
    "Use the rest of this notebook to work through all these questions. \n",
    "\n",
    "I will be coming around to everyone to help/guide you in your data science quest!\n",
    "\n",
    "If you can tackle all of these questions, then you've learned a lot already! \n",
    "\n",
    "If not, don't worry, this stuff is hard and I will gladly help/guide you through all of this.\n",
    "\n",
    "but take charge of your learning!\n",
    "\n",
    "This means:\n",
    "\n",
    "* Ask a neighbor to help if you don't understand something. \n",
    "* If your neighbor can't help you, try using:\n",
    "  * the interactive documentation I showed you how to use earlier\n",
    "  * [pandas documentation](http://pandas.pydata.org/pandas-docs/stable/index.html)\n",
    "  * [google](http://www.google.com)\n",
    "  * [stackoverflow](http://stackoverflow.com) to see if someone in the internet ether has had a similar problem before\n",
    "  * if none of this works, then I will gladly help you\n",
    "* This will accomplish at least two things:\n",
    "  * It will get you to use online resources and take charge of your learning\n",
    "  * Get you to learn alternative approaches (those I did not show you today) to solving your problem"
   ]
  },
  {
   "cell_type": "markdown",
   "metadata": {},
   "source": [
    "I've started the bare-bones script for you by:\n",
    "\n",
    "* importing what I ~~think~~ know you will need\n",
    "* loading the dataset into a variable called `fareData` that stores the data as a `DataFrame` object (you might need to change the path to where the file is located on your system)\n",
    "* formatting the timestamp for you so that you don't have to figure out how to do it, because spending 30+ minutes  (or more) trying to figure it out is not the point of the assignment. This way, all of the functions in `fareData.pickup_datetime.dt` can immediately be used on the `pickup_datetime` column your dataset.\n",
    "\n",
    "The rest I leave to you. Happy hacking!"
   ]
  },
  {
   "cell_type": "code",
   "execution_count": 1,
   "metadata": {},
   "outputs": [],
   "source": [
    "import pandas as pd\n",
    "import numpy as np"
   ]
  },
  {
   "cell_type": "code",
   "execution_count": 2,
   "metadata": {},
   "outputs": [
    {
     "data": {
      "text/plain": [
       "medallion                  object\n",
       "hack_license               object\n",
       "vendor_id                  object\n",
       "pickup_datetime    datetime64[ns]\n",
       "payment_type               object\n",
       "fare_amount               float64\n",
       "surcharge                 float64\n",
       "mta_tax                   float64\n",
       "tip_amount                float64\n",
       "tolls_amount              float64\n",
       "total_amount              float64\n",
       "dtype: object"
      ]
     },
     "execution_count": 2,
     "metadata": {},
     "output_type": "execute_result"
    }
   ],
   "source": [
    "fareData = pd.read_csv(\"nycTaxiData/nycTaxiData/trip_fare_500k.csv\")\n",
    "fareData.pickup_datetime = pd.to_datetime(fareData.pickup_datetime,format=\"%Y-%m-%d %H:%M:%S\")\n",
    "fareData.dtypes #this is to confirm that the pickup_datetime column, as well as all of the other\n",
    "# columns, are in the appropriate formats (pickup_datetime should be in datetime64 format)\n",
    "# if it isn't something is wrong, and we need to figure what that is"
   ]
  },
  {
   "cell_type": "code",
   "execution_count": 3,
   "metadata": {},
   "outputs": [
    {
     "name": "stdout",
     "output_type": "stream",
     "text": [
      "460.0\n",
      "2.5\n"
     ]
    }
   ],
   "source": [
    "# 1. What is the most expensive/least expensive trip taken?\n",
    "\n",
    "mostexpensivefare = fareData['fare_amount'].max()\n",
    "leastexpensivefare = fareData['fare_amount'].min()\n",
    "\n",
    "print(mostexpensivefare)\n",
    "print(leastexpensivefare)"
   ]
  },
  {
   "cell_type": "code",
   "execution_count": 8,
   "metadata": {},
   "outputs": [
    {
     "name": "stdout",
     "output_type": "stream",
     "text": [
      "              fare_amount  surcharge   mta_tax  tip_amount  tolls_amount  \\\n",
      "fare_amount      1.000000  -0.064229 -0.256318    0.549345      0.614237   \n",
      "surcharge       -0.064229   1.000000  0.023950   -0.021421     -0.063364   \n",
      "mta_tax         -0.256318   0.023950  1.000000   -0.134473     -0.260192   \n",
      "tip_amount       0.549345  -0.021421 -0.134473    1.000000      0.413718   \n",
      "tolls_amount     0.614237  -0.063364 -0.260192    0.413718      1.000000   \n",
      "total_amount     0.984733  -0.035148 -0.258903    0.670875      0.676342   \n",
      "\n",
      "              total_amount  \n",
      "fare_amount       0.984733  \n",
      "surcharge        -0.035148  \n",
      "mta_tax          -0.258903  \n",
      "tip_amount        0.670875  \n",
      "tolls_amount      0.676342  \n",
      "total_amount      1.000000  \n",
      "0.670875307140199\n"
     ]
    }
   ],
   "source": [
    "# 2. Does the overall total_amount paid per ride correlate with tip_amount per ride? YES - 0.6709 shows positive correlation between the 2\n",
    "\n",
    "correlationmatrix = fareData.corr()\n",
    "print(correlationmatrix)\n",
    "\n",
    "correlation = fareData.total_amount.corr(fareData.tip_amount)\n",
    "print(correlation)"
   ]
  },
  {
   "cell_type": "code",
   "execution_count": 12,
   "metadata": {},
   "outputs": [
    {
     "name": "stdout",
     "output_type": "stream",
     "text": [
      "0.6703435782941248\n"
     ]
    }
   ],
   "source": [
    "# 3. Does it correlate when you remove all rides with unknown payment type? YES - still a positive 0.6703 correlation\n",
    "\n",
    "MaskUNK = fareData.payment_type != 'UNK'\n",
    "KnownPaymentsData = fareData[MaskUNK]\n",
    "\n",
    "corrKnownPayments = KnownPaymentsData.total_amount.corr(fareData.tip_amount)\n",
    "print(corrKnownPayments)"
   ]
  },
  {
   "cell_type": "code",
   "execution_count": 109,
   "metadata": {},
   "outputs": [
    {
     "name": "stdout",
     "output_type": "stream",
     "text": [
      "A:  14.170294439997486\n",
      "B:  14.163024804668963\n",
      "C:  payment_type\n",
      "CRD    16.371267\n",
      "CSH    11.616747\n",
      "DIS     5.750000\n",
      "NOC     3.000000\n",
      "UNK    22.116674\n",
      "Name: total_amount, dtype: float64\n",
      "D:  payment_type\n",
      "UNK    22.116674\n",
      "Name: total_amount, dtype: float64\n",
      "E:  payment_type\n",
      "UNK    21.049277\n",
      "Name: total_amount, dtype: float64\n",
      "F:  payment_type\n",
      "UNK    3.430088\n",
      "Name: tip_amount, dtype: float64\n",
      "G:  hour\n",
      "5    1.942813\n",
      "Name: tip_amount, dtype: float64\n",
      "H:  hour\n",
      "5    3.275576\n",
      "Name: tip_amount, dtype: float64\n"
     ]
    }
   ],
   "source": [
    "# 4. Calculate the average cost of a trip in this dataset given the following conditions:\n",
    "# A. Across the whole dataset.\n",
    "# B. Across the whole dataset when the payment is known (not UNK).\n",
    "# C. For each payment_type.\n",
    "# D. Which payment type has the highest average cost?\n",
    "# E. Which payment type has the largest spread in how much people paid (standard deviation)?\n",
    "# F. Which payment type has the most generous people, (has the highest average tip), including unknown payment types?\n",
    "# G. What hour of the day were people most generous, on average, when they got in a cab?\n",
    "# H. What hour of the day did people fluctuate most in terms of tips? That is, do some hours lead to unpredictable tip amounts?\n",
    "\n",
    "avgcost = fareData.total_amount.mean()\n",
    "print('A: ', avgcost)\n",
    "\n",
    "avgcostpayknown = KnownPaymentsData.total_amount.mean()\n",
    "print('B: ', avgcostpayknown)\n",
    "\n",
    "paymentsgroup = fareData.groupby('payment_type')\n",
    "avgcostbypayment = paymentsgroup.total_amount.mean()\n",
    "print('C: ', avgcostbypayment)\n",
    "\n",
    "maxavgcostpaymenttype = avgcostbypayment[avgcostbypayment == avgcostbypayment.max()]\n",
    "print('D: ', maxavgcostpaymenttype)\n",
    "\n",
    "stdcostbypayment = paymentsgroup.total_amount.std()\n",
    "maxstdbypaymenttype = stdcostbypayment[stdcostbypayment == stdcostbypayment.max()]\n",
    "print('E: ', maxstdbypaymenttype)\n",
    "\n",
    "avgtipsbypayment = paymentsgroup.tip_amount.mean()\n",
    "mostgeneroustype = avgtipsbypayment[avgtipsbypayment == avgtipsbypayment.max()]\n",
    "print('F: ', mostgeneroustype)\n",
    "\n",
    "fareData['hour'] = fareData.pickup_datetime.dt.hour\n",
    "hourgroup = fareData.groupby('hour')\n",
    "avgtipbyhour = hourgroup.tip_amount.mean()\n",
    "mostgeneroushour = avgtipbyhour[avgtipbyhour == avgtipbyhour.max()]\n",
    "print('G: ', mostgeneroushour)\n",
    "\n",
    "stdtipbyhour = hourgroup.tip_amount.std()\n",
    "largeststdhour = stdtipbyhour[stdtipbyhour == stdtipbyhour.max()]\n",
    "print('H: ', largeststdhour)"
   ]
  },
  {
   "cell_type": "code",
   "execution_count": 111,
   "metadata": {},
   "outputs": [
    {
     "name": "stdout",
     "output_type": "stream",
     "text": [
      "A:  hack_license\n",
      "CFCD208495D565EF66E7DFF9F98764DA    2517.28\n",
      "Name: total_amount, dtype: float64\n",
      "B:  hack_license\n",
      "5114DF85775775ED4F53235D8478E80B    53.466667\n",
      "Name: total_amount, dtype: float64\n"
     ]
    }
   ],
   "source": [
    "# 5. Which person (hack_license) made the most money:\n",
    "# A. In total?\n",
    "# B. On a per trip basis, given that they took at least 20 trips?\n",
    "\n",
    "drivergroup = fareData.groupby('hack_license')\n",
    "drivertotals = drivergroup.total_amount.sum()\n",
    "mostmoneydriver = drivertotals[drivertotals == drivertotals.max()]\n",
    "print('A: ', mostmoneydriver)\n",
    "\n",
    "filtereddrivers = drivergroup.filter(lambda x: x.fare_amount.size >= 20)\n",
    "filtereddrivergroup = filtereddrivers.groupby('hack_license')\n",
    "\n",
    "\n",
    "avgfare = filtereddrivergroup.total_amount.mean()\n",
    "mostmoneydriveravg = avgfare[avgfare == avgfare.max()]\n",
    "print('B: ', mostmoneydriveravg)"
   ]
  },
  {
   "cell_type": "code",
   "execution_count": 112,
   "metadata": {},
   "outputs": [
    {
     "name": "stdout",
     "output_type": "stream",
     "text": [
      "          size      mean\n",
      "size  1.000000 -0.291082\n",
      "mean -0.291082  1.000000\n"
     ]
    }
   ],
   "source": [
    "# 6. Does the number of trips a given cabbie takes (her/his experience) correlate with how well she/he is tipped? If so, in what direction?\n",
    "\n",
    "# tripcountsperdriver = drivergroup.fare_amount.size()\n",
    "# tripcounts = pd.DataFrame({'hack_license':tripcountsperdriver.index, 'total_trips':tripcountsperdriver.values})\n",
    "\n",
    "# joinedtripcounts = tripcounts.merge(fareData,on='hack_license')\n",
    "\n",
    "# tiptripcorr = joinedtripcounts.tip_amount.corr(joinedtripcounts.total_trips)\n",
    "# print(tiptripcorr)\n",
    "\n",
    "drivergrouptipvstrips = fareData.groupby(\"hack_license\")[\"tip_amount\"].agg([np.size, np.mean])\n",
    "print(drivergrouptipvstrips.corr())\n",
    "\n",
    "# a slight negative correlation, the more experience the cabbie has, the lower the tip. Not a strong correlation though"
   ]
  },
  {
   "cell_type": "code",
   "execution_count": 113,
   "metadata": {},
   "outputs": [
    {
     "name": "stdout",
     "output_type": "stream",
     "text": [
      "         size     mean\n",
      "size  1.00000 -0.34822\n",
      "mean -0.34822  1.00000\n"
     ]
    }
   ],
   "source": [
    "# 7. Does the number of times a given cab is used correlate with how well the person driving the cab is tipped? That is, are there \"lucky\" cabs?\n",
    "\n",
    "# medalliongroup = fareData.groupby('medallion')\n",
    "# medallionuses = medalliongroup.fare_amount.size()\n",
    "\n",
    "# countsdataframe = pd.DataFrame({'medallion':medallionuses.index, 'total_uses':medallionuses.values})\n",
    "\n",
    "# joinedcabusetotals = countsdataframe.merge(fareData,on='medallion')\n",
    "\n",
    "# tipcabcorr = joinedcabusetotals.tip_amount.corr(joinedcabusetotals.total_uses)\n",
    "# print(tipcabcorr)\n",
    "\n",
    "taxigrouptipsvstrips = fareData.groupby(\"medallion\")[\"tip_amount\"].agg([np.size, np.mean])\n",
    "print(taxigrouptipsvstrips.corr())\n",
    "\n",
    "# again, only a slight negative correlation, the more times a cab is used, the lower the tip. Not a strong correlation."
   ]
  },
  {
   "cell_type": "code",
   "execution_count": 114,
   "metadata": {},
   "outputs": [
    {
     "name": "stdout",
     "output_type": "stream",
     "text": [
      "The vendor with the highest average surcharge per-hour is:\n",
      "vendor_id\n",
      "VTS    0.293235\n",
      "dtype: float64\n"
     ]
    }
   ],
   "source": [
    "# 8. Which vendor_id had the highest average surcharge on a per hour basis?\n",
    "\n",
    "# vendorhourgroup = fareData.groupby(['vendor_id','hour'])\n",
    "# avgsurcharge = vendorhourgroup.surcharge.mean()\n",
    "\n",
    "# maxavgsurchargeperhour = avgsurcharge.groupby(level=1).idxmax()\n",
    "\n",
    "# print(avgsurcharge)\n",
    "# print(maxavgsurchargeperhour)\n",
    "\n",
    "perVendorMeans = fareData.groupby([\"vendor_id\",\"hour\"])[\"surcharge\"].mean().unstack(level=1)\n",
    "perVendorMeans = perVendorMeans.mean(axis=1)\n",
    "print(\"The vendor with the highest average surcharge per-hour is:\")\n",
    "print(perVendorMeans[perVendorMeans==perVendorMeans.max()])\n"
   ]
  },
  {
   "cell_type": "code",
   "execution_count": 115,
   "metadata": {},
   "outputs": [
    {
     "name": "stdout",
     "output_type": "stream",
     "text": [
      "A:  hour\n",
      "12    33564\n",
      "Name: fare_amount, dtype: int64\n",
      "B:  hour\n",
      "4    3962\n",
      "Name: fare_amount, dtype: int64\n",
      "C:  hour\n",
      "14    6201\n",
      "Name: medallion, dtype: int64\n",
      "D:  hour\n",
      "5    1935\n",
      "Name: medallion, dtype: int64\n",
      "E:  quarterDay\n",
      "(-1.0, 5.0]     73.460526\n",
      "(5.0, 11.0]     86.302632\n",
      "(11.0, 17.0]    92.434211\n",
      "(17.0, inf]     91.552632\n",
      "dtype: float64\n"
     ]
    }
   ],
   "source": [
    "# 9. Which hour in the day:\n",
    "# A. Did people most frequently take rides?\n",
    "# B. Did people least frequently take rides?\n",
    "# C. Had the largest number of unique cabs on the street?\n",
    "# D. Had the least number of cabs on the street?\n",
    "# E. What is the average number of cabs on the streets in NYC in each quarter of the day (at least in this dataset)?\n",
    "\n",
    "hourgroup = fareData.groupby('hour')\n",
    "ridetotals = hourgroup.fare_amount.size()\n",
    "\n",
    "maxrideshour = ridetotals[ridetotals == ridetotals.max()]\n",
    "print('A: ', maxrideshour)\n",
    "\n",
    "minrideshour = ridetotals[ridetotals == ridetotals.min()]\n",
    "print('B: ', minrideshour)\n",
    "\n",
    "numuniquecabs = hourgroup.medallion.nunique()\n",
    "mostcabshour = numuniquecabs[numuniquecabs == numuniquecabs.max()]\n",
    "print('C: ', mostcabshour)\n",
    "\n",
    "leastcabshour = numuniquecabs[numuniquecabs == numuniquecabs.min()]\n",
    "print('D: ', leastcabshour)\n",
    "\n",
    "fareData['quarterDay'] = pd.cut(fareData['hour'], [-1,5,11,17,np.inf])\n",
    "earliestDay = fareData.pickup_datetime.dt.dayofyear.min()\n",
    "lastDay = fareData.pickup_datetime.dt.dayofyear.max()\n",
    "totalQuarters = (lastDay-earliestDay)*4\n",
    "uniqueCabsQuarterDay = fareData.drop_duplicates([\"medallion\",\"quarterDay\"])\n",
    "print('E: ', uniqueCabsQuarterDay.groupby(\"quarterDay\").size()/totalQuarters)"
   ]
  }
 ],
 "metadata": {
  "kernelspec": {
   "display_name": "Python 3",
   "language": "python",
   "name": "python3"
  },
  "language_info": {
   "codemirror_mode": {
    "name": "ipython",
    "version": 3
   },
   "file_extension": ".py",
   "mimetype": "text/x-python",
   "name": "python",
   "nbconvert_exporter": "python",
   "pygments_lexer": "ipython3",
   "version": "3.7.0"
  }
 },
 "nbformat": 4,
 "nbformat_minor": 1
}
